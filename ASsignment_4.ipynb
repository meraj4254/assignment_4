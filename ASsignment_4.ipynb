{
 "cells": [
  {
   "cell_type": "code",
   "execution_count": 1,
   "id": "dab9d221",
   "metadata": {},
   "outputs": [],
   "source": [
    "# Q-1 Write a Python program to create a lambda function that adds 25 to a given number passed in as an argument.\n",
    "\n",
    "\n",
    "\n",
    "# sample input: 10\n",
    "\n",
    "# sample output: 35\n",
    "\n",
    "\n",
    "# Q-2 Write a Python program to triple all numbers of a given list of integers. Use Python map.\n",
    "\n",
    "\n",
    "\n",
    "#sample list: [1, 2, 3, 4, 5, 6, 7]\n",
    "\n",
    "\n",
    "                                                                     \n",
    "#Triple of list numbers:\n",
    "\n",
    "#[3, 6, 9, 12, 15, 18, 21]\n",
    "\n",
    "\n",
    "\n",
    "#Q-3 Write a Python program to square the elements of a list using map() function.\n",
    "\n",
    "\n",
    "# Sample List: [4, 5, 2, 9]\n",
    "\n",
    "# Square the elements of the list:\n",
    "\n",
    "# [16, 25, 4, 81]"
   ]
  },
  {
   "cell_type": "code",
   "execution_count": 12,
   "id": "67b72fe5",
   "metadata": {},
   "outputs": [
    {
     "name": "stdout",
     "output_type": "stream",
     "text": [
      "35\n"
     ]
    }
   ],
   "source": [
    "# Q-1 Write a Python program to create a lambda function that adds 25 to a given number passed in as an argument.\n",
    "# sample input: 10\n",
    "\n",
    "# sample output: 35\n",
    "\n",
    "def sums():\n",
    "    adds = lambda a,b : a + b\n",
    "    print(adds(10,25))    \n",
    "sums()    "
   ]
  },
  {
   "cell_type": "code",
   "execution_count": 16,
   "id": "e98b221d",
   "metadata": {},
   "outputs": [
    {
     "name": "stdout",
     "output_type": "stream",
     "text": [
      "[3, 6, 9, 12, 15, 18, 21]\n"
     ]
    }
   ],
   "source": [
    "# Q-2 Write a Python program to triple all numbers of a given list of integers. Use Python map.\n",
    "#sample list: [1, 2, 3, 4, 5, 6, 7]\n",
    "#Triple of list numbers:\n",
    "\n",
    "#[3, 6, 9, 12, 15, 18, 21]                                       \n",
    "\n",
    "\n",
    "lst = [1, 2, 3, 4, 5, 6, 7]\n",
    "\n",
    "def cube(lst):\n",
    "    return lst*3\n",
    "data = list(map(cube,lst))\n",
    "print(data)\n",
    "    "
   ]
  },
  {
   "cell_type": "code",
   "execution_count": 19,
   "id": "b2cae992",
   "metadata": {},
   "outputs": [
    {
     "name": "stdout",
     "output_type": "stream",
     "text": [
      "[16, 25, 4, 81]\n"
     ]
    }
   ],
   "source": [
    "#Q-3 Write a Python program to square the elements of a list using map() function.\n",
    "\n",
    "\n",
    "# Sample List: [4, 5, 2, 9]\n",
    "\n",
    "# Square the elements of the list:\n",
    "\n",
    "# [16, 25, 4, 81]\n",
    "\n",
    "\n",
    "lst = [4,5,2,9]\n",
    "\n",
    "def square(lst):\n",
    "    return lst**2\n",
    "data = list(map(square,lst))\n",
    "print(data)\n",
    "\n"
   ]
  },
  {
   "cell_type": "code",
   "execution_count": null,
   "id": "d7d01f7e",
   "metadata": {},
   "outputs": [],
   "source": []
  }
 ],
 "metadata": {
  "kernelspec": {
   "display_name": "Python 3 (ipykernel)",
   "language": "python",
   "name": "python3"
  },
  "language_info": {
   "codemirror_mode": {
    "name": "ipython",
    "version": 3
   },
   "file_extension": ".py",
   "mimetype": "text/x-python",
   "name": "python",
   "nbconvert_exporter": "python",
   "pygments_lexer": "ipython3",
   "version": "3.10.2"
  }
 },
 "nbformat": 4,
 "nbformat_minor": 5
}
